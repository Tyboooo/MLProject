{
 "cells": [
  {
   "cell_type": "code",
   "execution_count": 34,
   "id": "initial_id",
   "metadata": {
    "ExecuteTime": {
     "end_time": "2024-04-17T13:23:38.866054Z",
     "start_time": "2024-04-17T13:23:38.796957Z"
    }
   },
   "outputs": [],
   "source": [
    "import os\n",
    "import datetime\n",
    "import pandas as pd\n",
    "from sklearn.preprocessing import MinMaxScaler\n",
    "from sklearn.model_selection import train_test_split\n",
    "\n",
    "import warnings\n",
    "import numpy as np\n",
    "import torch\n",
    "from torch import nn\n",
    "from torch.utils.data import TensorDataset, DataLoader\n",
    "import matplotlib.pyplot as plt\n",
    "from sklearn.metrics import mean_squared_error, r2_score"
   ]
  },
  {
   "cell_type": "code",
   "execution_count": 35,
   "id": "6aa4bea9056eeda8",
   "metadata": {
    "ExecuteTime": {
     "end_time": "2024-04-17T13:23:38.902962Z",
     "start_time": "2024-04-17T13:23:38.799832Z"
    },
    "collapsed": false,
    "jupyter": {
     "outputs_hidden": false
    }
   },
   "outputs": [],
   "source": [
    "# [TBC] complete your code here with proper comments\n",
    "# suppress all warnings\n",
    "warnings.filterwarnings(\"ignore\")"
   ]
  },
  {
   "cell_type": "code",
   "execution_count": 36,
   "id": "bb4773177c8c1137",
   "metadata": {
    "ExecuteTime": {
     "end_time": "2024-04-17T13:23:38.913640Z",
     "start_time": "2024-04-17T13:23:38.801796Z"
    },
    "collapsed": false,
    "jupyter": {
     "outputs_hidden": false
    }
   },
   "outputs": [
    {
     "data": {
      "text/html": [
       "<div>\n",
       "<style scoped>\n",
       "    .dataframe tbody tr th:only-of-type {\n",
       "        vertical-align: middle;\n",
       "    }\n",
       "\n",
       "    .dataframe tbody tr th {\n",
       "        vertical-align: top;\n",
       "    }\n",
       "\n",
       "    .dataframe thead th {\n",
       "        text-align: right;\n",
       "    }\n",
       "</style>\n",
       "<table border=\"1\" class=\"dataframe\">\n",
       "  <thead>\n",
       "    <tr style=\"text-align: right;\">\n",
       "      <th></th>\n",
       "      <th>Sourcing</th>\n",
       "      <th>Transport</th>\n",
       "      <th>Replenishment</th>\n",
       "      <th>Distribution</th>\n",
       "      <th>Total demand</th>\n",
       "      <th>Initial RW Inv</th>\n",
       "      <th>Initial PW Inv</th>\n",
       "      <th>Initial DW Inv Total</th>\n",
       "      <th>Initial DW Inv 0</th>\n",
       "      <th>Initial DW Inv 1</th>\n",
       "      <th>...</th>\n",
       "      <th>Demand coverage after 480 hours (%)</th>\n",
       "      <th>Demand coverage after 492 hours (%)</th>\n",
       "      <th>Demand coverage after 504 hours (%)</th>\n",
       "      <th>Demand coverage after 516 hours (%)</th>\n",
       "      <th>Demand coverage after 528 hours (%)</th>\n",
       "      <th>Demand coverage after 540 hours (%)</th>\n",
       "      <th>Demand coverage after 552 hours (%)</th>\n",
       "      <th>Demand coverage after 564 hours (%)</th>\n",
       "      <th>Demand coverage after 576 hours (%)</th>\n",
       "      <th>Readiness (%)</th>\n",
       "    </tr>\n",
       "  </thead>\n",
       "  <tbody>\n",
       "    <tr>\n",
       "      <th>0</th>\n",
       "      <td>0</td>\n",
       "      <td>0</td>\n",
       "      <td>1</td>\n",
       "      <td>0</td>\n",
       "      <td>17497.0</td>\n",
       "      <td>2724.0</td>\n",
       "      <td>156.0</td>\n",
       "      <td>120.0</td>\n",
       "      <td>1.0</td>\n",
       "      <td>13.0</td>\n",
       "      <td>...</td>\n",
       "      <td>100.0</td>\n",
       "      <td>100.0</td>\n",
       "      <td>100.0</td>\n",
       "      <td>100.0</td>\n",
       "      <td>100.0</td>\n",
       "      <td>100.0</td>\n",
       "      <td>100.0</td>\n",
       "      <td>100.0</td>\n",
       "      <td>100.0</td>\n",
       "      <td>75.505439</td>\n",
       "    </tr>\n",
       "    <tr>\n",
       "      <th>1</th>\n",
       "      <td>0</td>\n",
       "      <td>0</td>\n",
       "      <td>1</td>\n",
       "      <td>0</td>\n",
       "      <td>20365.0</td>\n",
       "      <td>2237.0</td>\n",
       "      <td>431.0</td>\n",
       "      <td>332.0</td>\n",
       "      <td>32.0</td>\n",
       "      <td>2.0</td>\n",
       "      <td>...</td>\n",
       "      <td>100.0</td>\n",
       "      <td>100.0</td>\n",
       "      <td>100.0</td>\n",
       "      <td>100.0</td>\n",
       "      <td>100.0</td>\n",
       "      <td>100.0</td>\n",
       "      <td>100.0</td>\n",
       "      <td>100.0</td>\n",
       "      <td>100.0</td>\n",
       "      <td>75.125215</td>\n",
       "    </tr>\n",
       "    <tr>\n",
       "      <th>2</th>\n",
       "      <td>0</td>\n",
       "      <td>0</td>\n",
       "      <td>1</td>\n",
       "      <td>0</td>\n",
       "      <td>23393.0</td>\n",
       "      <td>2332.0</td>\n",
       "      <td>377.0</td>\n",
       "      <td>291.0</td>\n",
       "      <td>7.0</td>\n",
       "      <td>1.0</td>\n",
       "      <td>...</td>\n",
       "      <td>100.0</td>\n",
       "      <td>100.0</td>\n",
       "      <td>100.0</td>\n",
       "      <td>100.0</td>\n",
       "      <td>100.0</td>\n",
       "      <td>100.0</td>\n",
       "      <td>100.0</td>\n",
       "      <td>100.0</td>\n",
       "      <td>100.0</td>\n",
       "      <td>74.340390</td>\n",
       "    </tr>\n",
       "    <tr>\n",
       "      <th>3</th>\n",
       "      <td>0</td>\n",
       "      <td>0</td>\n",
       "      <td>1</td>\n",
       "      <td>0</td>\n",
       "      <td>25825.0</td>\n",
       "      <td>2167.0</td>\n",
       "      <td>252.0</td>\n",
       "      <td>581.0</td>\n",
       "      <td>7.0</td>\n",
       "      <td>31.0</td>\n",
       "      <td>...</td>\n",
       "      <td>100.0</td>\n",
       "      <td>100.0</td>\n",
       "      <td>100.0</td>\n",
       "      <td>100.0</td>\n",
       "      <td>100.0</td>\n",
       "      <td>100.0</td>\n",
       "      <td>100.0</td>\n",
       "      <td>100.0</td>\n",
       "      <td>100.0</td>\n",
       "      <td>74.935140</td>\n",
       "    </tr>\n",
       "    <tr>\n",
       "      <th>4</th>\n",
       "      <td>0</td>\n",
       "      <td>0</td>\n",
       "      <td>1</td>\n",
       "      <td>0</td>\n",
       "      <td>23179.0</td>\n",
       "      <td>2357.0</td>\n",
       "      <td>91.0</td>\n",
       "      <td>552.0</td>\n",
       "      <td>7.0</td>\n",
       "      <td>7.0</td>\n",
       "      <td>...</td>\n",
       "      <td>100.0</td>\n",
       "      <td>100.0</td>\n",
       "      <td>100.0</td>\n",
       "      <td>100.0</td>\n",
       "      <td>100.0</td>\n",
       "      <td>100.0</td>\n",
       "      <td>100.0</td>\n",
       "      <td>100.0</td>\n",
       "      <td>100.0</td>\n",
       "      <td>74.258119</td>\n",
       "    </tr>\n",
       "  </tbody>\n",
       "</table>\n",
       "<p>5 rows × 73 columns</p>\n",
       "</div>"
      ],
      "text/plain": [
       "   Sourcing  Transport  Replenishment  Distribution  Total demand  \\\n",
       "0         0          0              1             0       17497.0   \n",
       "1         0          0              1             0       20365.0   \n",
       "2         0          0              1             0       23393.0   \n",
       "3         0          0              1             0       25825.0   \n",
       "4         0          0              1             0       23179.0   \n",
       "\n",
       "   Initial RW Inv  Initial PW Inv  Initial DW Inv Total  Initial DW Inv 0  \\\n",
       "0          2724.0           156.0                 120.0               1.0   \n",
       "1          2237.0           431.0                 332.0              32.0   \n",
       "2          2332.0           377.0                 291.0               7.0   \n",
       "3          2167.0           252.0                 581.0               7.0   \n",
       "4          2357.0            91.0                 552.0               7.0   \n",
       "\n",
       "   Initial DW Inv 1  ...  Demand coverage after 480 hours (%)  \\\n",
       "0              13.0  ...                                100.0   \n",
       "1               2.0  ...                                100.0   \n",
       "2               1.0  ...                                100.0   \n",
       "3              31.0  ...                                100.0   \n",
       "4               7.0  ...                                100.0   \n",
       "\n",
       "   Demand coverage after 492 hours (%)  Demand coverage after 504 hours (%)  \\\n",
       "0                                100.0                                100.0   \n",
       "1                                100.0                                100.0   \n",
       "2                                100.0                                100.0   \n",
       "3                                100.0                                100.0   \n",
       "4                                100.0                                100.0   \n",
       "\n",
       "   Demand coverage after 516 hours (%)  Demand coverage after 528 hours (%)  \\\n",
       "0                                100.0                                100.0   \n",
       "1                                100.0                                100.0   \n",
       "2                                100.0                                100.0   \n",
       "3                                100.0                                100.0   \n",
       "4                                100.0                                100.0   \n",
       "\n",
       "   Demand coverage after 540 hours (%)  Demand coverage after 552 hours (%)  \\\n",
       "0                                100.0                                100.0   \n",
       "1                                100.0                                100.0   \n",
       "2                                100.0                                100.0   \n",
       "3                                100.0                                100.0   \n",
       "4                                100.0                                100.0   \n",
       "\n",
       "   Demand coverage after 564 hours (%)  Demand coverage after 576 hours (%)  \\\n",
       "0                                100.0                                100.0   \n",
       "1                                100.0                                100.0   \n",
       "2                                100.0                                100.0   \n",
       "3                                100.0                                100.0   \n",
       "4                                100.0                                100.0   \n",
       "\n",
       "   Readiness (%)  \n",
       "0      75.505439  \n",
       "1      75.125215  \n",
       "2      74.340390  \n",
       "3      74.935140  \n",
       "4      74.258119  \n",
       "\n",
       "[5 rows x 73 columns]"
      ]
     },
     "execution_count": 36,
     "metadata": {},
     "output_type": "execute_result"
    }
   ],
   "source": [
    "data = pd.read_csv('C:\\\\Users\\\\thiba\\\\Downloads\\\\red_cross_supply_chain_dataset.csv')\n",
    "data.head()"
   ]
  },
  {
   "cell_type": "code",
   "execution_count": 37,
   "id": "fd61740f23200ad7",
   "metadata": {
    "ExecuteTime": {
     "end_time": "2024-04-17T13:23:38.914406Z",
     "start_time": "2024-04-17T13:23:38.886768Z"
    },
    "collapsed": false,
    "jupyter": {
     "outputs_hidden": false
    }
   },
   "outputs": [
    {
     "data": {
      "text/html": [
       "<div>\n",
       "<style scoped>\n",
       "    .dataframe tbody tr th:only-of-type {\n",
       "        vertical-align: middle;\n",
       "    }\n",
       "\n",
       "    .dataframe tbody tr th {\n",
       "        vertical-align: top;\n",
       "    }\n",
       "\n",
       "    .dataframe thead th {\n",
       "        text-align: right;\n",
       "    }\n",
       "</style>\n",
       "<table border=\"1\" class=\"dataframe\">\n",
       "  <thead>\n",
       "    <tr style=\"text-align: right;\">\n",
       "      <th></th>\n",
       "      <th>Sourcing</th>\n",
       "      <th>Transport</th>\n",
       "      <th>Replenishment</th>\n",
       "      <th>Distribution</th>\n",
       "      <th>Total demand</th>\n",
       "      <th>Initial RW Inv</th>\n",
       "      <th>Initial PW Inv</th>\n",
       "      <th>Initial DW Inv Total</th>\n",
       "      <th>Initial DW Inv 0</th>\n",
       "      <th>Initial DW Inv 1</th>\n",
       "      <th>...</th>\n",
       "      <th>Demand coverage after 468 hours (%)</th>\n",
       "      <th>Demand coverage after 480 hours (%)</th>\n",
       "      <th>Demand coverage after 492 hours (%)</th>\n",
       "      <th>Demand coverage after 504 hours (%)</th>\n",
       "      <th>Demand coverage after 516 hours (%)</th>\n",
       "      <th>Demand coverage after 528 hours (%)</th>\n",
       "      <th>Demand coverage after 540 hours (%)</th>\n",
       "      <th>Demand coverage after 552 hours (%)</th>\n",
       "      <th>Demand coverage after 564 hours (%)</th>\n",
       "      <th>Demand coverage after 576 hours (%)</th>\n",
       "    </tr>\n",
       "  </thead>\n",
       "  <tbody>\n",
       "    <tr>\n",
       "      <th>0</th>\n",
       "      <td>0</td>\n",
       "      <td>0</td>\n",
       "      <td>1</td>\n",
       "      <td>0</td>\n",
       "      <td>17497.0</td>\n",
       "      <td>2724.0</td>\n",
       "      <td>156.0</td>\n",
       "      <td>120.0</td>\n",
       "      <td>1.0</td>\n",
       "      <td>13.0</td>\n",
       "      <td>...</td>\n",
       "      <td>100.0</td>\n",
       "      <td>100.0</td>\n",
       "      <td>100.0</td>\n",
       "      <td>100.0</td>\n",
       "      <td>100.0</td>\n",
       "      <td>100.0</td>\n",
       "      <td>100.0</td>\n",
       "      <td>100.0</td>\n",
       "      <td>100.0</td>\n",
       "      <td>100.0</td>\n",
       "    </tr>\n",
       "    <tr>\n",
       "      <th>1</th>\n",
       "      <td>0</td>\n",
       "      <td>0</td>\n",
       "      <td>1</td>\n",
       "      <td>0</td>\n",
       "      <td>20365.0</td>\n",
       "      <td>2237.0</td>\n",
       "      <td>431.0</td>\n",
       "      <td>332.0</td>\n",
       "      <td>32.0</td>\n",
       "      <td>2.0</td>\n",
       "      <td>...</td>\n",
       "      <td>100.0</td>\n",
       "      <td>100.0</td>\n",
       "      <td>100.0</td>\n",
       "      <td>100.0</td>\n",
       "      <td>100.0</td>\n",
       "      <td>100.0</td>\n",
       "      <td>100.0</td>\n",
       "      <td>100.0</td>\n",
       "      <td>100.0</td>\n",
       "      <td>100.0</td>\n",
       "    </tr>\n",
       "    <tr>\n",
       "      <th>2</th>\n",
       "      <td>0</td>\n",
       "      <td>0</td>\n",
       "      <td>1</td>\n",
       "      <td>0</td>\n",
       "      <td>23393.0</td>\n",
       "      <td>2332.0</td>\n",
       "      <td>377.0</td>\n",
       "      <td>291.0</td>\n",
       "      <td>7.0</td>\n",
       "      <td>1.0</td>\n",
       "      <td>...</td>\n",
       "      <td>100.0</td>\n",
       "      <td>100.0</td>\n",
       "      <td>100.0</td>\n",
       "      <td>100.0</td>\n",
       "      <td>100.0</td>\n",
       "      <td>100.0</td>\n",
       "      <td>100.0</td>\n",
       "      <td>100.0</td>\n",
       "      <td>100.0</td>\n",
       "      <td>100.0</td>\n",
       "    </tr>\n",
       "    <tr>\n",
       "      <th>3</th>\n",
       "      <td>0</td>\n",
       "      <td>0</td>\n",
       "      <td>1</td>\n",
       "      <td>0</td>\n",
       "      <td>25825.0</td>\n",
       "      <td>2167.0</td>\n",
       "      <td>252.0</td>\n",
       "      <td>581.0</td>\n",
       "      <td>7.0</td>\n",
       "      <td>31.0</td>\n",
       "      <td>...</td>\n",
       "      <td>100.0</td>\n",
       "      <td>100.0</td>\n",
       "      <td>100.0</td>\n",
       "      <td>100.0</td>\n",
       "      <td>100.0</td>\n",
       "      <td>100.0</td>\n",
       "      <td>100.0</td>\n",
       "      <td>100.0</td>\n",
       "      <td>100.0</td>\n",
       "      <td>100.0</td>\n",
       "    </tr>\n",
       "    <tr>\n",
       "      <th>4</th>\n",
       "      <td>0</td>\n",
       "      <td>0</td>\n",
       "      <td>1</td>\n",
       "      <td>0</td>\n",
       "      <td>23179.0</td>\n",
       "      <td>2357.0</td>\n",
       "      <td>91.0</td>\n",
       "      <td>552.0</td>\n",
       "      <td>7.0</td>\n",
       "      <td>7.0</td>\n",
       "      <td>...</td>\n",
       "      <td>100.0</td>\n",
       "      <td>100.0</td>\n",
       "      <td>100.0</td>\n",
       "      <td>100.0</td>\n",
       "      <td>100.0</td>\n",
       "      <td>100.0</td>\n",
       "      <td>100.0</td>\n",
       "      <td>100.0</td>\n",
       "      <td>100.0</td>\n",
       "      <td>100.0</td>\n",
       "    </tr>\n",
       "  </tbody>\n",
       "</table>\n",
       "<p>5 rows × 72 columns</p>\n",
       "</div>"
      ],
      "text/plain": [
       "   Sourcing  Transport  Replenishment  Distribution  Total demand  \\\n",
       "0         0          0              1             0       17497.0   \n",
       "1         0          0              1             0       20365.0   \n",
       "2         0          0              1             0       23393.0   \n",
       "3         0          0              1             0       25825.0   \n",
       "4         0          0              1             0       23179.0   \n",
       "\n",
       "   Initial RW Inv  Initial PW Inv  Initial DW Inv Total  Initial DW Inv 0  \\\n",
       "0          2724.0           156.0                 120.0               1.0   \n",
       "1          2237.0           431.0                 332.0              32.0   \n",
       "2          2332.0           377.0                 291.0               7.0   \n",
       "3          2167.0           252.0                 581.0               7.0   \n",
       "4          2357.0            91.0                 552.0               7.0   \n",
       "\n",
       "   Initial DW Inv 1  ...  Demand coverage after 468 hours (%)  \\\n",
       "0              13.0  ...                                100.0   \n",
       "1               2.0  ...                                100.0   \n",
       "2               1.0  ...                                100.0   \n",
       "3              31.0  ...                                100.0   \n",
       "4               7.0  ...                                100.0   \n",
       "\n",
       "   Demand coverage after 480 hours (%)  Demand coverage after 492 hours (%)  \\\n",
       "0                                100.0                                100.0   \n",
       "1                                100.0                                100.0   \n",
       "2                                100.0                                100.0   \n",
       "3                                100.0                                100.0   \n",
       "4                                100.0                                100.0   \n",
       "\n",
       "   Demand coverage after 504 hours (%)  Demand coverage after 516 hours (%)  \\\n",
       "0                                100.0                                100.0   \n",
       "1                                100.0                                100.0   \n",
       "2                                100.0                                100.0   \n",
       "3                                100.0                                100.0   \n",
       "4                                100.0                                100.0   \n",
       "\n",
       "   Demand coverage after 528 hours (%)  Demand coverage after 540 hours (%)  \\\n",
       "0                                100.0                                100.0   \n",
       "1                                100.0                                100.0   \n",
       "2                                100.0                                100.0   \n",
       "3                                100.0                                100.0   \n",
       "4                                100.0                                100.0   \n",
       "\n",
       "   Demand coverage after 552 hours (%)  Demand coverage after 564 hours (%)  \\\n",
       "0                                100.0                                100.0   \n",
       "1                                100.0                                100.0   \n",
       "2                                100.0                                100.0   \n",
       "3                                100.0                                100.0   \n",
       "4                                100.0                                100.0   \n",
       "\n",
       "   Demand coverage after 576 hours (%)  \n",
       "0                                100.0  \n",
       "1                                100.0  \n",
       "2                                100.0  \n",
       "3                                100.0  \n",
       "4                                100.0  \n",
       "\n",
       "[5 rows x 72 columns]"
      ]
     },
     "execution_count": 37,
     "metadata": {},
     "output_type": "execute_result"
    }
   ],
   "source": [
    "data.drop(columns='Readiness (%)').head()"
   ]
  },
  {
   "cell_type": "code",
   "execution_count": 38,
   "id": "d7f0697d05435637",
   "metadata": {
    "ExecuteTime": {
     "end_time": "2024-04-17T13:23:38.914519Z",
     "start_time": "2024-04-17T13:23:38.896926Z"
    },
    "collapsed": false,
    "jupyter": {
     "outputs_hidden": false
    }
   },
   "outputs": [],
   "source": [
    "column_list = ['Demand coverage after 132 hours (%)',\n",
    " 'Demand coverage after 144 hours (%)',\n",
    " 'Demand coverage after 156 hours (%)',\n",
    " 'Demand coverage after 168 hours (%)',\n",
    " 'Demand coverage after 180 hours (%)',\n",
    " 'Demand coverage after 192 hours (%)',\n",
    " 'Demand coverage after 204 hours (%)',\n",
    " 'Demand coverage after 216 hours (%)',\n",
    " 'Demand coverage after 228 hours (%)',\n",
    " 'Demand coverage after 240 hours (%)',\n",
    " 'Demand coverage after 252 hours (%)',\n",
    " 'Demand coverage after 264 hours (%)',\n",
    " 'Demand coverage after 276 hours (%)',\n",
    " 'Demand coverage after 288 hours (%)',\n",
    " 'Demand coverage after 300 hours (%)',\n",
    " 'Demand coverage after 312 hours (%)',\n",
    " 'Demand coverage after 324 hours (%)',\n",
    " 'Demand coverage after 336 hours (%)',\n",
    " 'Demand coverage after 348 hours (%)',\n",
    " 'Demand coverage after 360 hours (%)',\n",
    " 'Demand coverage after 372 hours (%)',\n",
    " 'Demand coverage after 384 hours (%)',\n",
    " 'Demand coverage after 396 hours (%)',\n",
    " 'Demand coverage after 408 hours (%)',\n",
    " 'Demand coverage after 420 hours (%)',\n",
    " 'Demand coverage after 432 hours (%)',\n",
    " 'Demand coverage after 444 hours (%)',\n",
    " 'Demand coverage after 456 hours (%)',\n",
    " 'Demand coverage after 468 hours (%)',\n",
    " 'Demand coverage after 480 hours (%)',\n",
    " 'Demand coverage after 492 hours (%)',\n",
    " 'Demand coverage after 504 hours (%)',\n",
    " 'Demand coverage after 516 hours (%)',\n",
    " 'Demand coverage after 528 hours (%)',\n",
    " 'Demand coverage after 540 hours (%)',\n",
    " 'Demand coverage after 552 hours (%)',\n",
    " 'Demand coverage after 564 hours (%)',\n",
    " 'Demand coverage after 576 hours (%)']"
   ]
  },
  {
   "cell_type": "code",
   "execution_count": 39,
   "id": "38f1f5e15aa6cd65",
   "metadata": {
    "ExecuteTime": {
     "end_time": "2024-04-17T13:23:38.914560Z",
     "start_time": "2024-04-17T13:23:38.899914Z"
    },
    "collapsed": false,
    "jupyter": {
     "outputs_hidden": false
    }
   },
   "outputs": [],
   "source": [
    "feature = data.drop(columns=column_list)"
   ]
  },
  {
   "cell_type": "code",
   "execution_count": 40,
   "id": "b0737cb8d489c863",
   "metadata": {
    "ExecuteTime": {
     "end_time": "2024-04-17T13:23:38.916189Z",
     "start_time": "2024-04-17T13:23:38.904787Z"
    },
    "collapsed": false,
    "jupyter": {
     "outputs_hidden": false
    }
   },
   "outputs": [],
   "source": [
    "# Drop columns that are not in the list of columns to keep\n",
    "columns_to_drop = [col for col in data.columns if col not in column_list]\n",
    "label = data.drop(columns=columns_to_drop)"
   ]
  },
  {
   "cell_type": "code",
   "execution_count": 41,
   "id": "edb93f73-427a-492f-b937-8d364c08d03e",
   "metadata": {},
   "outputs": [
    {
     "data": {
      "text/plain": [
       "<bound method DataFrame.info of        Sourcing  Transport  Replenishment  Distribution  Total demand  \\\n",
       "0             0          0              1             0       17497.0   \n",
       "1             0          0              1             0       20365.0   \n",
       "2             0          0              1             0       23393.0   \n",
       "3             0          0              1             0       25825.0   \n",
       "4             0          0              1             0       23179.0   \n",
       "...         ...        ...            ...           ...           ...   \n",
       "11995         1          1              0             1       22100.0   \n",
       "11996         1          1              0             1       19185.0   \n",
       "11997         1          1              0             1       21936.0   \n",
       "11998         1          1              0             1       31348.0   \n",
       "11999         1          1              0             1       14102.0   \n",
       "\n",
       "       Initial RW Inv  Initial PW Inv  Initial DW Inv Total  Initial DW Inv 0  \\\n",
       "0              2724.0           156.0                 120.0               1.0   \n",
       "1              2237.0           431.0                 332.0              32.0   \n",
       "2              2332.0           377.0                 291.0               7.0   \n",
       "3              2167.0           252.0                 581.0               7.0   \n",
       "4              2357.0            91.0                 552.0               7.0   \n",
       "...               ...             ...                   ...               ...   \n",
       "11995          2220.0           549.0                 231.0               5.0   \n",
       "11996          2633.0            88.0                 279.0               2.0   \n",
       "11997          1973.0           413.0                 614.0               8.0   \n",
       "11998          2420.0           171.0                 409.0              35.0   \n",
       "11999          2350.0           502.0                 148.0               2.0   \n",
       "\n",
       "       Initial DW Inv 1  ...  Demand coverage after 480 hours (%)  \\\n",
       "0                  13.0  ...                           100.000000   \n",
       "1                   2.0  ...                           100.000000   \n",
       "2                   1.0  ...                           100.000000   \n",
       "3                  31.0  ...                           100.000000   \n",
       "4                   7.0  ...                           100.000000   \n",
       "...                 ...  ...                                  ...   \n",
       "11995              30.0  ...                            69.542986   \n",
       "11996               9.0  ...                            67.286943   \n",
       "11997              36.0  ...                            76.910102   \n",
       "11998              51.0  ...                            74.464081   \n",
       "11999               7.0  ...                            89.817047   \n",
       "\n",
       "       Demand coverage after 492 hours (%)  \\\n",
       "0                               100.000000   \n",
       "1                               100.000000   \n",
       "2                               100.000000   \n",
       "3                               100.000000   \n",
       "4                               100.000000   \n",
       "...                                    ...   \n",
       "11995                            83.398190   \n",
       "11996                            90.701069   \n",
       "11997                           100.000000   \n",
       "11998                           100.000000   \n",
       "11999                            89.817047   \n",
       "\n",
       "       Demand coverage after 504 hours (%)  \\\n",
       "0                               100.000000   \n",
       "1                               100.000000   \n",
       "2                               100.000000   \n",
       "3                               100.000000   \n",
       "4                               100.000000   \n",
       "...                                    ...   \n",
       "11995                            93.289593   \n",
       "11996                           100.000000   \n",
       "11997                           100.000000   \n",
       "11998                           100.000000   \n",
       "11999                            89.817047   \n",
       "\n",
       "       Demand coverage after 516 hours (%)  \\\n",
       "0                                    100.0   \n",
       "1                                    100.0   \n",
       "2                                    100.0   \n",
       "3                                    100.0   \n",
       "4                                    100.0   \n",
       "...                                    ...   \n",
       "11995                                100.0   \n",
       "11996                                100.0   \n",
       "11997                                100.0   \n",
       "11998                                100.0   \n",
       "11999                                100.0   \n",
       "\n",
       "       Demand coverage after 528 hours (%)  \\\n",
       "0                                    100.0   \n",
       "1                                    100.0   \n",
       "2                                    100.0   \n",
       "3                                    100.0   \n",
       "4                                    100.0   \n",
       "...                                    ...   \n",
       "11995                                100.0   \n",
       "11996                                100.0   \n",
       "11997                                100.0   \n",
       "11998                                100.0   \n",
       "11999                                100.0   \n",
       "\n",
       "       Demand coverage after 540 hours (%)  \\\n",
       "0                                    100.0   \n",
       "1                                    100.0   \n",
       "2                                    100.0   \n",
       "3                                    100.0   \n",
       "4                                    100.0   \n",
       "...                                    ...   \n",
       "11995                                100.0   \n",
       "11996                                100.0   \n",
       "11997                                100.0   \n",
       "11998                                100.0   \n",
       "11999                                100.0   \n",
       "\n",
       "       Demand coverage after 552 hours (%)  \\\n",
       "0                                    100.0   \n",
       "1                                    100.0   \n",
       "2                                    100.0   \n",
       "3                                    100.0   \n",
       "4                                    100.0   \n",
       "...                                    ...   \n",
       "11995                                100.0   \n",
       "11996                                100.0   \n",
       "11997                                100.0   \n",
       "11998                                100.0   \n",
       "11999                                100.0   \n",
       "\n",
       "       Demand coverage after 564 hours (%)  \\\n",
       "0                                    100.0   \n",
       "1                                    100.0   \n",
       "2                                    100.0   \n",
       "3                                    100.0   \n",
       "4                                    100.0   \n",
       "...                                    ...   \n",
       "11995                                100.0   \n",
       "11996                                100.0   \n",
       "11997                                100.0   \n",
       "11998                                100.0   \n",
       "11999                                100.0   \n",
       "\n",
       "       Demand coverage after 576 hours (%)  Readiness (%)  \n",
       "0                                    100.0      75.505439  \n",
       "1                                    100.0      75.125215  \n",
       "2                                    100.0      74.340390  \n",
       "3                                    100.0      74.935140  \n",
       "4                                    100.0      74.258119  \n",
       "...                                    ...            ...  \n",
       "11995                                100.0      64.807395  \n",
       "11996                                100.0      71.642456  \n",
       "11997                                100.0      70.638088  \n",
       "11998                                100.0      66.557969  \n",
       "11999                                100.0      79.292131  \n",
       "\n",
       "[12000 rows x 73 columns]>"
      ]
     },
     "execution_count": 41,
     "metadata": {},
     "output_type": "execute_result"
    }
   ],
   "source": [
    "data.info"
   ]
  },
  {
   "cell_type": "code",
   "execution_count": 42,
   "id": "9aae28c07bd887cc",
   "metadata": {
    "ExecuteTime": {
     "end_time": "2024-04-17T13:23:38.929460Z",
     "start_time": "2024-04-17T13:23:38.909394Z"
    },
    "collapsed": false,
    "jupyter": {
     "outputs_hidden": false
    }
   },
   "outputs": [],
   "source": [
    "# feature scaling\n",
    "scaler = MinMaxScaler()\n",
    "scaled_feature = scaler.fit_transform(feature)"
   ]
  },
  {
   "cell_type": "code",
   "execution_count": 43,
   "id": "c28427c62525e335",
   "metadata": {
    "ExecuteTime": {
     "end_time": "2024-04-17T13:23:38.947033Z",
     "start_time": "2024-04-17T13:23:38.922014Z"
    },
    "collapsed": false,
    "jupyter": {
     "outputs_hidden": false
    }
   },
   "outputs": [],
   "source": [
    "# Split the dataset into train, validation, and test sets\n",
    "train_val_feature, test_feature, train_val_label, test_label = train_test_split(\n",
    "    scaled_feature, label.to_numpy(), test_size = 0.2, random_state = 0\n",
    ")\n",
    "train_feature, val_feature, train_label, val_label = train_test_split(\n",
    "    train_val_feature, train_val_label, test_size = 0.25, random_state = 0\n",
    ")"
   ]
  },
  {
   "cell_type": "code",
   "execution_count": 44,
   "id": "69433ce04a799d9b",
   "metadata": {
    "ExecuteTime": {
     "end_time": "2024-04-17T13:23:38.968456Z",
     "start_time": "2024-04-17T13:23:38.930112Z"
    },
    "collapsed": false,
    "jupyter": {
     "outputs_hidden": false
    }
   },
   "outputs": [],
   "source": [
    "# specify the type of data stored in the tensors to avoid incompatiblity\n",
    "# create the train, validatoin, and test dataset\n",
    "# specify the type of data stored in the tensors to avoid incompatiblity\n",
    "train_ds = TensorDataset(\n",
    "    torch.tensor(train_feature.reshape(-1, 1, 35), dtype = torch.float32),\n",
    "    torch.tensor(train_label, dtype = torch.float32)\n",
    ")\n",
    "val_ds = TensorDataset(\n",
    "    torch.tensor(val_feature.reshape(-1, 1, 35), dtype = torch.float32),\n",
    "    torch.tensor(val_label, dtype = torch.float32)\n",
    ")\n",
    "test_ds = TensorDataset(\n",
    "    torch.tensor(test_feature.reshape(-1, 1, 35), dtype = torch.float32),\n",
    "    torch.tensor(test_label, dtype = torch.float32)\n",
    ")"
   ]
  },
  {
   "cell_type": "code",
   "execution_count": 45,
   "id": "1e9d101b8fa87c65",
   "metadata": {
    "ExecuteTime": {
     "end_time": "2024-04-17T13:23:39.000040Z",
     "start_time": "2024-04-17T13:23:38.935757Z"
    },
    "collapsed": false,
    "jupyter": {
     "outputs_hidden": false
    }
   },
   "outputs": [],
   "source": [
    "# create the train and test data loaders\n",
    "batch_size = 256 # usually set to 2 to the nth power\n",
    "train_dl = DataLoader(train_ds, batch_size = batch_size, shuffle = True)\n",
    "val_dl = DataLoader(val_ds, batch_size = batch_size, shuffle = False)\n",
    "test_dl = DataLoader(test_ds, batch_size = batch_size, shuffle = False)"
   ]
  },
  {
   "cell_type": "code",
   "execution_count": 46,
   "id": "b01c3c5a1e62cc70",
   "metadata": {
    "ExecuteTime": {
     "end_time": "2024-04-17T13:23:39.000344Z",
     "start_time": "2024-04-17T13:23:38.938498Z"
    },
    "collapsed": false,
    "jupyter": {
     "outputs_hidden": false
    }
   },
   "outputs": [
    {
     "name": "stdout",
     "output_type": "stream",
     "text": [
      "Feature shape: torch.Size([256, 1, 35])\n",
      "Label shape: torch.Size([256, 38])\n"
     ]
    }
   ],
   "source": [
    "# display the dimensionality of a batch\n",
    "for (X, y) in val_dl:\n",
    "    print('Feature shape:', X.shape)\n",
    "    print('Label shape:', y.shape)\n",
    "    break"
   ]
  },
  {
   "cell_type": "code",
   "execution_count": 53,
   "id": "2cc58b019f4f4a51",
   "metadata": {
    "ExecuteTime": {
     "end_time": "2024-04-17T13:23:39.007785Z",
     "start_time": "2024-04-17T13:23:38.949821Z"
    },
    "collapsed": false,
    "jupyter": {
     "outputs_hidden": false
    }
   },
   "outputs": [],
   "source": [
    "# define a custom neural network class\n",
    "class NeuralNetwork(nn.Module):\n",
    "    def __init__(self, in_channels, n_labels):\n",
    "        super().__init__()\n",
    "        self.net = nn.Sequential(\n",
    "            nn.LazyConv1d(out_channels = 3, kernel_size = 3, stride = 1, padding = 1),\n",
    "            nn.LazyBatchNorm1d(), nn.Sigmoid(), nn.MaxPool1d(kernel_size = 2),\n",
    "            nn.LazyConv1d(out_channels = 9, kernel_size = 3, stride = 1, padding = 1),\n",
    "            nn.LazyBatchNorm1d(), nn.Sigmoid(), nn.MaxPool1d(kernel_size = 2),\n",
    "            nn.LazyConv1d(out_channels = 27, kernel_size = 3, stride = 1, padding = 1),\n",
    "            nn.LazyBatchNorm1d(), nn.Sigmoid(), nn.MaxPool1d(kernel_size = 2),\n",
    "            nn.Flatten(),\n",
    "            nn.LazyLinear(1000), nn.LazyBatchNorm1d(), nn.ReLU(), nn.Dropout(p = 0.5),\n",
    "            nn.LazyLinear(100), nn.LazyBatchNorm1d(), nn.ReLU(), nn.Dropout(p = 0.5),\n",
    "            nn.LazyLinear(38)\n",
    "        )\n",
    "\n",
    "    def forward(self, x):\n",
    "        return self.net(x)"
   ]
  },
  {
   "cell_type": "code",
   "execution_count": 54,
   "id": "18bf642bc3ea8638",
   "metadata": {
    "ExecuteTime": {
     "end_time": "2024-04-17T13:23:39.015531Z",
     "start_time": "2024-04-17T13:23:38.955699Z"
    },
    "collapsed": false,
    "jupyter": {
     "outputs_hidden": false
    }
   },
   "outputs": [
    {
     "name": "stdout",
     "output_type": "stream",
     "text": [
      "Using cpu device\n"
     ]
    }
   ],
   "source": [
    "# get cpu, gpu or mps device for computation\n",
    "device = (\n",
    "    \"cuda\"\n",
    "    if torch.cuda.is_available()\n",
    "    else \"mps\"\n",
    "    if torch.backends.mps.is_available()\n",
    "    else \"cpu\"\n",
    ")\n",
    "print(f\"Using {device} device\")"
   ]
  },
  {
   "cell_type": "code",
   "execution_count": 55,
   "id": "d79ae9152fb7e750",
   "metadata": {
    "ExecuteTime": {
     "end_time": "2024-04-17T13:23:39.019428Z",
     "start_time": "2024-04-17T13:23:38.961133Z"
    },
    "collapsed": false,
    "jupyter": {
     "outputs_hidden": false
    }
   },
   "outputs": [],
   "source": [
    "# create the neural network\n",
    "model = NeuralNetwork(\n",
    "    in_channels = train_ds[0][0].shape[0],\n",
    "    n_labels = 38\n",
    ").to(device)"
   ]
  },
  {
   "cell_type": "code",
   "execution_count": 56,
   "id": "3978df9b4fa5557e",
   "metadata": {
    "ExecuteTime": {
     "end_time": "2024-04-17T13:23:39.042496Z",
     "start_time": "2024-04-17T13:23:38.972322Z"
    },
    "collapsed": false,
    "jupyter": {
     "outputs_hidden": false
    }
   },
   "outputs": [],
   "source": [
    "# define the training function\n",
    "def train(train_dl, val_dl, model, loss_fn, optimizer, epochs, early_stopping_patience, lr_scheduler):\n",
    "    # initialization\n",
    "    min_val_loss, patience_counter = np.inf, 0\n",
    "    saved_path, start_time = '', datetime.datetime.now()\n",
    "    # aggregate loss histories into a dictionary\n",
    "    histories = {'train_batch': [], 'train_epoch': [], 'val_batch': [], 'val_epoch': []}\n",
    "\n",
    "    for epoch in range(epochs):\n",
    "        # train\n",
    "        model.train()\n",
    "        train_epoch_loss = 0.0\n",
    "        for X, y in train_dl:\n",
    "            X, y = X.to(device), y.to(device) # move data to GPU\n",
    "            optimizer.zero_grad()\n",
    "            train_batch_loss = loss_fn(model(X), y)\n",
    "            train_batch_loss.backward()\n",
    "            optimizer.step()\n",
    "            train_epoch_loss += train_batch_loss.item()\n",
    "            histories['train_batch'].append(train_batch_loss.item())\n",
    "        train_epoch_loss /= len(train_dl)\n",
    "        histories['train_epoch'].append(train_epoch_loss)\n",
    "\n",
    "        # validation\n",
    "        model.eval()\n",
    "        val_epoch_loss = 0.0\n",
    "        with torch.no_grad():\n",
    "            for X, y in val_dl:\n",
    "                X, y = X.to(device), y.to(device) # move data to GPU\n",
    "                val_batch_loss = loss_fn(model(X), y)\n",
    "                val_epoch_loss += val_batch_loss.item()\n",
    "                histories['val_batch'].append(val_batch_loss.item())\n",
    "            val_epoch_loss /= len(val_dl)\n",
    "            histories['val_epoch'].append(val_epoch_loss)\n",
    "\n",
    "        # print log\n",
    "        end_time = datetime.datetime.now()\n",
    "        time_consumed = str(end_time - start_time).split('.')[0]\n",
    "        print(f\"Epoch {epoch + 1}: train loss = {train_epoch_loss:>5f}, val loss = {val_epoch_loss:>5f}, time consumed = {time_consumed}\")\n",
    "\n",
    "        # learning rate decay\n",
    "        current_lr = optimizer.param_groups[0]['lr']\n",
    "        lr_scheduler.step(val_epoch_loss)\n",
    "        if current_lr != optimizer.param_groups[0]['lr']:\n",
    "            print(f'Learning rate reduced after epoch {epoch+1}')\n",
    "\n",
    "        # early stopping\n",
    "        if val_epoch_loss < min_val_loss:\n",
    "            min_val_loss, patience_counter = val_epoch_loss, 0\n",
    "            # save the current model as a new minimal validation loss is achieved\n",
    "            if os.path.exists(saved_path):\n",
    "                os.remove(saved_path)\n",
    "            time_str = end_time.strftime(\"%Y-%m-%d_%H-%M-%S\")\n",
    "            saved_path = f'epoch_{epoch+1}_val_loss_{val_epoch_loss:>4f}_{time_str}.pth'\n",
    "            torch.save(model.state_dict(), saved_path)\n",
    "            print(f'Model saved after epoch {epoch+1}')\n",
    "        else:\n",
    "            patience_counter += 1\n",
    "            if patience_counter >= early_stopping_patience:\n",
    "                print('Early stopping!')\n",
    "                break\n",
    "                \n",
    "    return histories, saved_path"
   ]
  },
  {
   "cell_type": "code",
   "execution_count": 57,
   "id": "3972904f74a8016d",
   "metadata": {
    "ExecuteTime": {
     "end_time": "2024-04-17T13:23:39.046247Z",
     "start_time": "2024-04-17T13:23:38.977366Z"
    },
    "collapsed": false,
    "jupyter": {
     "outputs_hidden": false
    }
   },
   "outputs": [],
   "source": [
    "# define the training hyper-parameters\n",
    "loss_fn = nn.MSELoss()\n",
    "learning_rate = 1e-1\n",
    "weight_decay = 1e-5\n",
    "optimizer = torch.optim.Adam(\n",
    "    model.parameters(),\n",
    "    lr = learning_rate,\n",
    "    weight_decay = weight_decay\n",
    ")\n",
    "epochs = 1000\n",
    "early_stopping_patience = 20\n",
    "lr_scheduler = torch.optim.lr_scheduler.ReduceLROnPlateau(\n",
    "    optimizer,\n",
    "    mode = 'min',\n",
    "    factor = 0.1,\n",
    "    patience = 10\n",
    ")"
   ]
  },
  {
   "cell_type": "code",
   "execution_count": 58,
   "id": "6655b355028b2e0f",
   "metadata": {
    "ExecuteTime": {
     "end_time": "2024-04-17T13:24:25.620660Z",
     "start_time": "2024-04-17T13:23:38.980888Z"
    },
    "collapsed": false,
    "jupyter": {
     "outputs_hidden": false
    }
   },
   "outputs": [
    {
     "name": "stdout",
     "output_type": "stream",
     "text": [
      "Epoch 1: train loss = 1348.788956, val loss = 467.737000, time consumed = 0:00:01\n",
      "Model saved after epoch 1\n",
      "Epoch 2: train loss = 379.942870, val loss = 544.233237, time consumed = 0:00:01\n",
      "Epoch 3: train loss = 248.694820, val loss = 395.191272, time consumed = 0:00:02\n",
      "Model saved after epoch 3\n",
      "Epoch 4: train loss = 175.624852, val loss = 178.732254, time consumed = 0:00:02\n",
      "Model saved after epoch 4\n",
      "Epoch 5: train loss = 170.355577, val loss = 70.972615, time consumed = 0:00:03\n",
      "Model saved after epoch 5\n",
      "Epoch 6: train loss = 154.905817, val loss = 93.567956, time consumed = 0:00:04\n",
      "Epoch 7: train loss = 146.693782, val loss = 87.836433, time consumed = 0:00:04\n",
      "Epoch 8: train loss = 141.970067, val loss = 96.505737, time consumed = 0:00:05\n",
      "Epoch 9: train loss = 148.379707, val loss = 48.626300, time consumed = 0:00:05\n",
      "Model saved after epoch 9\n",
      "Epoch 10: train loss = 147.177122, val loss = 83.263924, time consumed = 0:00:06\n",
      "Epoch 11: train loss = 135.135692, val loss = 232.471600, time consumed = 0:00:07\n",
      "Epoch 12: train loss = 141.456901, val loss = 153.341446, time consumed = 0:00:07\n",
      "Epoch 13: train loss = 145.652917, val loss = 108.779810, time consumed = 0:00:08\n",
      "Epoch 14: train loss = 142.013677, val loss = 99.639399, time consumed = 0:00:08\n",
      "Epoch 15: train loss = 137.128760, val loss = 90.552059, time consumed = 0:00:09\n",
      "Epoch 16: train loss = 132.052054, val loss = 59.030904, time consumed = 0:00:09\n",
      "Epoch 17: train loss = 130.321746, val loss = 41.828175, time consumed = 0:00:10\n",
      "Model saved after epoch 17\n",
      "Epoch 18: train loss = 132.073698, val loss = 50.184159, time consumed = 0:00:11\n",
      "Epoch 19: train loss = 129.629371, val loss = 33.108617, time consumed = 0:00:11\n",
      "Model saved after epoch 19\n",
      "Epoch 20: train loss = 127.468915, val loss = 46.631776, time consumed = 0:00:12\n",
      "Epoch 21: train loss = 128.869453, val loss = 61.465602, time consumed = 0:00:12\n",
      "Epoch 22: train loss = 137.090887, val loss = 59.472165, time consumed = 0:00:13\n",
      "Epoch 23: train loss = 133.835028, val loss = 28.586584, time consumed = 0:00:13\n",
      "Model saved after epoch 23\n",
      "Epoch 24: train loss = 126.705407, val loss = 60.930907, time consumed = 0:00:14\n",
      "Epoch 25: train loss = 131.280510, val loss = 66.754688, time consumed = 0:00:14\n",
      "Epoch 26: train loss = 130.859038, val loss = 54.827856, time consumed = 0:00:15\n",
      "Epoch 27: train loss = 130.185712, val loss = 37.233683, time consumed = 0:00:15\n",
      "Epoch 28: train loss = 127.198010, val loss = 35.795671, time consumed = 0:00:16\n",
      "Epoch 29: train loss = 119.830176, val loss = 51.429150, time consumed = 0:00:16\n",
      "Epoch 30: train loss = 119.901324, val loss = 35.033639, time consumed = 0:00:17\n",
      "Epoch 31: train loss = 123.497228, val loss = 40.658195, time consumed = 0:00:17\n",
      "Epoch 32: train loss = 116.857310, val loss = 31.026333, time consumed = 0:00:18\n",
      "Epoch 33: train loss = 121.789369, val loss = 61.765015, time consumed = 0:00:19\n",
      "Epoch 34: train loss = 119.446233, val loss = 69.050551, time consumed = 0:00:19\n",
      "Learning rate reduced after epoch 34\n",
      "Epoch 35: train loss = 123.050451, val loss = 32.422708, time consumed = 0:00:20\n",
      "Epoch 36: train loss = 108.095688, val loss = 24.951736, time consumed = 0:00:20\n",
      "Model saved after epoch 36\n",
      "Epoch 37: train loss = 111.530508, val loss = 25.536043, time consumed = 0:00:21\n",
      "Epoch 38: train loss = 110.073856, val loss = 22.173275, time consumed = 0:00:22\n",
      "Model saved after epoch 38\n",
      "Epoch 39: train loss = 109.224095, val loss = 25.488560, time consumed = 0:00:22\n",
      "Epoch 40: train loss = 108.210418, val loss = 27.198667, time consumed = 0:00:23\n",
      "Epoch 41: train loss = 107.903511, val loss = 24.291954, time consumed = 0:00:23\n",
      "Epoch 42: train loss = 105.858949, val loss = 25.233546, time consumed = 0:00:26\n",
      "Epoch 43: train loss = 117.076330, val loss = 32.919263, time consumed = 0:00:27\n",
      "Epoch 44: train loss = 111.279873, val loss = 25.525198, time consumed = 0:00:27\n",
      "Epoch 45: train loss = 108.459261, val loss = 24.630740, time consumed = 0:00:28\n",
      "Epoch 46: train loss = 107.177085, val loss = 21.891645, time consumed = 0:00:28\n",
      "Model saved after epoch 46\n",
      "Epoch 47: train loss = 107.025340, val loss = 25.680088, time consumed = 0:00:29\n",
      "Epoch 48: train loss = 107.455848, val loss = 25.767501, time consumed = 0:00:30\n",
      "Epoch 49: train loss = 104.810302, val loss = 23.330935, time consumed = 0:00:30\n",
      "Epoch 50: train loss = 107.684214, val loss = 24.945511, time consumed = 0:00:31\n",
      "Epoch 51: train loss = 107.467770, val loss = 21.928076, time consumed = 0:00:31\n",
      "Epoch 52: train loss = 110.863752, val loss = 25.177516, time consumed = 0:00:32\n",
      "Epoch 53: train loss = 108.635463, val loss = 28.656988, time consumed = 0:00:33\n",
      "Epoch 54: train loss = 106.285373, val loss = 27.428749, time consumed = 0:00:33\n",
      "Epoch 55: train loss = 105.640495, val loss = 25.077873, time consumed = 0:00:34\n",
      "Epoch 56: train loss = 103.831695, val loss = 22.972123, time consumed = 0:00:35\n",
      "Epoch 57: train loss = 106.866820, val loss = 24.546733, time consumed = 0:00:36\n",
      "Learning rate reduced after epoch 57\n",
      "Epoch 58: train loss = 104.580762, val loss = 22.141256, time consumed = 0:00:37\n",
      "Epoch 59: train loss = 106.804471, val loss = 23.265182, time consumed = 0:00:37\n",
      "Epoch 60: train loss = 104.848278, val loss = 23.083137, time consumed = 0:00:38\n",
      "Epoch 61: train loss = 104.215590, val loss = 22.401455, time consumed = 0:00:39\n",
      "Epoch 62: train loss = 110.520882, val loss = 23.130662, time consumed = 0:00:39\n",
      "Epoch 63: train loss = 105.705064, val loss = 22.085025, time consumed = 0:00:40\n",
      "Epoch 64: train loss = 107.013717, val loss = 22.544010, time consumed = 0:00:40\n",
      "Epoch 65: train loss = 101.507324, val loss = 22.324377, time consumed = 0:00:41\n",
      "Epoch 66: train loss = 104.924358, val loss = 24.502688, time consumed = 0:00:41\n",
      "Early stopping!\n"
     ]
    },
    {
     "data": {
      "text/plain": [
       "<All keys matched successfully>"
      ]
     },
     "execution_count": 58,
     "metadata": {},
     "output_type": "execute_result"
    }
   ],
   "source": [
    "# train the neural network\n",
    "histories, saved_path = train(\n",
    "    train_dl,\n",
    "    val_dl,\n",
    "    model,\n",
    "    loss_fn,\n",
    "    optimizer,\n",
    "    epochs,\n",
    "    early_stopping_patience,\n",
    "    lr_scheduler\n",
    ")\n",
    "# reload the best model\n",
    "model.load_state_dict(torch.load(saved_path))"
   ]
  },
  {
   "cell_type": "code",
   "execution_count": 59,
   "id": "bf3ea2989afec3ab",
   "metadata": {
    "ExecuteTime": {
     "end_time": "2024-04-17T13:24:25.692220Z",
     "start_time": "2024-04-17T13:24:25.626477Z"
    },
    "collapsed": false,
    "jupyter": {
     "outputs_hidden": false
    }
   },
   "outputs": [
    {
     "data": {
      "image/png": "[encoded data removed]",
      "text/plain": [
       "<Figure size 640x480 with 1 Axes>"
      ]
     },
     "metadata": {},
     "output_type": "display_data"
    }
   ],
   "source": [
    "# plot the train loss history\n",
    "plt.figure()\n",
    "batch = np.arange(len(histories['train_batch']))\n",
    "epoch = np.arange(len(histories['train_epoch']))\n",
    "batches_per_epoch = (int(len(train_ds) / batch_size + 1))\n",
    "plt.plot(batch, histories['train_batch'], '-', label = 'batch loss')\n",
    "plt.plot(epoch * batches_per_epoch, histories['train_epoch'], '-', label = 'epoch loss')\n",
    "plt.title('train loss history')\n",
    "plt.xlabel('batch')\n",
    "plt.ylabel('train loss')\n",
    "plt.legend()\n",
    "plt.show()"
   ]
  },
  {
   "cell_type": "code",
   "execution_count": 60,
   "id": "d2c4b94f58051a1f",
   "metadata": {
    "ExecuteTime": {
     "end_time": "2024-04-17T13:24:25.772085Z",
     "start_time": "2024-04-17T13:24:25.702880Z"
    },
    "collapsed": false,
    "jupyter": {
     "outputs_hidden": false
    }
   },
   "outputs": [
    {
     "data": {
      "image/png": "[encoded data removed]",
      "text/plain": [
       "<Figure size 640x480 with 1 Axes>"
      ]
     },
     "metadata": {},
     "output_type": "display_data"
    }
   ],
   "source": [
    "# plot the train loss history\n",
    "plt.figure()\n",
    "batch = np.arange(len(histories['val_batch']))\n",
    "epoch = np.arange(len(histories['val_epoch']))\n",
    "batches_per_epoch = (int(len(val_ds) / batch_size + 1))\n",
    "plt.plot(batch, histories['val_batch'], '-', label = 'batch loss')\n",
    "plt.plot(epoch * batches_per_epoch, histories['val_epoch'], '-', label = 'epoch loss')\n",
    "plt.title('validation loss history')\n",
    "plt.xlabel('batch')\n",
    "plt.ylabel('validation loss')\n",
    "plt.legend()\n",
    "plt.show()"
   ]
  },
  {
   "cell_type": "code",
   "execution_count": 61,
   "id": "cbe42384ecdc2ebd",
   "metadata": {
    "ExecuteTime": {
     "end_time": "2024-04-17T13:24:25.861016Z",
     "start_time": "2024-04-17T13:24:25.781268Z"
    },
    "collapsed": false,
    "jupyter": {
     "outputs_hidden": false
    }
   },
   "outputs": [
    {
     "data": {
      "image/png": "[encoded data removed]",
      "text/plain": [
       "<Figure size 640x480 with 1 Axes>"
      ]
     },
     "metadata": {},
     "output_type": "display_data"
    }
   ],
   "source": [
    "# plot the train vs. val loss history\n",
    "plt.figure()\n",
    "plt.plot(np.arange(len(histories['train_epoch'])), histories['train_epoch'], '-', label = 'train loss')\n",
    "plt.plot(np.arange(len(histories['val_epoch'])), histories['val_epoch'], '-', label = 'val loss')\n",
    "plt.title('train vs. validation loss history')\n",
    "plt.xlabel('epoch')\n",
    "plt.ylabel('loss')\n",
    "plt.legend()\n",
    "plt.show()"
   ]
  },
  {
   "cell_type": "code",
   "execution_count": 62,
   "id": "617436c6872e5285",
   "metadata": {
    "ExecuteTime": {
     "end_time": "2024-04-17T13:24:25.868649Z",
     "start_time": "2024-04-17T13:24:25.864977Z"
    },
    "collapsed": false,
    "jupyter": {
     "outputs_hidden": false
    }
   },
   "outputs": [],
   "source": [
    "# define a function to make predictions on test dataset and evaluate the performance\n",
    "def test(dataloader, model, loss_fn):\n",
    "    logits, probs, preds = [], [], []\n",
    "    with torch.no_grad():\n",
    "        loss = 0.0\n",
    "        for (X, y) in dataloader:\n",
    "            X, y = X.to(device), y.to(device) # move data to GPU\n",
    "            batch_logits = model(X)\n",
    "            batch_loss = loss_fn(batch_logits, y)\n",
    "            loss += batch_loss.item()\n",
    "\n",
    "            batch_probs = torch.softmax(batch_logits, dim = -1)\n",
    "            _, batch_preds = torch.max(batch_logits, 1)\n",
    "\n",
    "            logits.append(batch_logits.cpu().numpy())\n",
    "            probs.append(batch_probs.cpu().numpy())\n",
    "            preds.append(batch_preds.cpu().numpy())\n",
    "        loss /= len(dataloader)\n",
    "        print(f\"test loss = {loss}\")\n",
    "    return np.concatenate(logits), np.concatenate(probs), np.concatenate(preds), loss"
   ]
  },
  {
   "cell_type": "code",
   "execution_count": 63,
   "id": "939e9dcef27c1a24",
   "metadata": {
    "ExecuteTime": {
     "end_time": "2024-04-17T13:24:25.947352Z",
     "start_time": "2024-04-17T13:24:25.868896Z"
    },
    "collapsed": false,
    "jupyter": {
     "outputs_hidden": false
    }
   },
   "outputs": [
    {
     "name": "stdout",
     "output_type": "stream",
     "text": [
      "test loss = 21.83284435272217\n",
      "RMSE = 4.670460534727273\n",
      "R-squared = 0.9681913434586891\n"
     ]
    }
   ],
   "source": [
    "# make prediction on test set and evaluate the performance\n",
    "test_logits, test_prob, test_pred, test_loss = test(test_dl, model, loss_fn)\n",
    "# Calculate RMSE\n",
    "rmse = np.sqrt(mean_squared_error(test_label, test_logits))\n",
    "\n",
    "# Calculate R-squared (r2)\n",
    "r2 = r2_score(test_label, test_logits)\n",
    "\n",
    "print(f\"RMSE = {rmse}\") # print RMSE\n",
    "print(f\"R-squared = {r2}\") # print R-squared"
   ]
  }
 ],
 "metadata": {
  "kernelspec": {
   "display_name": "Python 3 (ipykernel)",
   "language": "python",
   "name": "python3"
  },
  "language_info": {
   "codemirror_mode": {
    "name": "ipython",
    "version": 3
   },
   "file_extension": ".py",
   "mimetype": "text/x-python",
   "name": "python",
   "nbconvert_exporter": "python",
   "pygments_lexer": "ipython3",
   "version": "3.11.7"
  }
 },
 "nbformat": 4,
 "nbformat_minor": 5
}
